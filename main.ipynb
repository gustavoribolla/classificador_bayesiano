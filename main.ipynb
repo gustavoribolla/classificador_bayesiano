{
 "cells": [
  {
   "cell_type": "code",
   "execution_count": 371,
   "metadata": {},
   "outputs": [],
   "source": [
    "import pandas as pd\n",
    "from math import log10\n",
    "from random import randint\n",
    "\n",
    "# 1- Escolha da database e separação das músicas\n",
    "\n",
    "df_nirvana = pd.read_csv('Dados/nirvana_lyrics.csv')\n",
    "df_pink_floyd = pd.read_csv('Dados\\pink_floyd_lyrics.csv')"
   ]
  },
  {
   "cell_type": "code",
   "execution_count": 372,
   "metadata": {},
   "outputs": [],
   "source": [
    "df_nirvana_treino = df_nirvana.iloc[:120]\n",
    "df_pink_floyd_treino = df_pink_floyd.iloc[:120]\n",
    "\n",
    "df_nirvana_teste = df_nirvana.iloc[120:140]\n",
    "df_pink_floyd_teste = df_pink_floyd.iloc[120:140]"
   ]
  },
  {
   "cell_type": "code",
   "execution_count": 373,
   "metadata": {},
   "outputs": [],
   "source": [
    "# 2- Probabilidade das músicas serem das bandas e total\n",
    "\n",
    "probabilidade_nirvana = len(df_nirvana_treino) / (len(df_nirvana_treino) + len(df_pink_floyd_treino))\n",
    "probabilidade_pink_floyd = len(df_pink_floyd_treino) / (len(df_nirvana_treino) + len(df_pink_floyd_treino))\n",
    "probabilidade_total = probabilidade_nirvana + probabilidade_pink_floyd"
   ]
  },
  {
   "cell_type": "code",
   "execution_count": 374,
   "metadata": {},
   "outputs": [],
   "source": [
    "# 3- Exclusão de caracteres inúteis e repetições\n",
    "\n",
    "import re\n",
    "def arruma(lyrics):\n",
    "    if isinstance(lyrics, str):\n",
    "        lyrics = lyrics.lower()\n",
    "        lyrics = re.sub(r\"[.!@#$%&*(){}:;_?/<>+|=,\\[\\]\\n']\", '', lyrics)\n",
    "        lyrics = re.sub(r'[\\\"]', '', lyrics)\n",
    "        lyrics = re.sub(r\"[’]\", ' ', lyrics)\n",
    "\n",
    "    return lyrics\n",
    "\n",
    "def split_function(texto):\n",
    "    return texto.split()\n",
    "\n",
    "df_nirvana_treino.loc[:,'lyrics'] = df_nirvana_treino['lyrics'].astype(str)\n",
    "df_pink_floyd_treino.loc[:,'lyrics'] = df_pink_floyd_treino['lyrics'].astype(str)\n",
    "df_nirvana_teste.loc[:,'lyrics'] = df_nirvana_teste['lyrics'].astype(str)\n",
    "df_pink_floyd_teste.loc[:,'lyrics'] = df_pink_floyd_teste['lyrics'].astype(str)\n",
    "\n",
    "df_nirvana_treino.loc[:,'lyrics'] = df_nirvana_treino['lyrics'].apply(arruma)\n",
    "df_pink_floyd_treino.loc[:,'lyrics'] = df_pink_floyd_treino['lyrics'].apply(arruma)\n",
    "df_nirvana_teste.loc[:,'lyrics'] = df_nirvana_teste['lyrics'].apply(arruma)\n",
    "df_pink_floyd_teste.loc[:,'lyrics'] = df_pink_floyd_teste['lyrics'].apply(arruma)\n",
    "\n",
    "df_nirvana_treino = pd.DataFrame(df_nirvana_treino)\n",
    "df_pink_floyd_treino = pd.DataFrame(df_pink_floyd_treino)\n",
    "df_nirvana_teste = pd.DataFrame(df_nirvana_teste)\n",
    "df_pink_floyd_teste = pd.DataFrame(df_pink_floyd_teste)\n",
    "\n",
    "def keep_unique_words(text):\n",
    "    words = text.split()\n",
    "    unique_words = set(words)\n",
    "    return ' '.join(unique_words)\n",
    "\n",
    "df_nirvana_treino['lyrics'] = df_nirvana_treino['lyrics'].apply(keep_unique_words)\n",
    "df_pink_floyd_treino['lyrics'] = df_pink_floyd_treino['lyrics'].apply(keep_unique_words)\n",
    "df_nirvana_teste['lyrics'] = df_nirvana_teste['lyrics'].apply(keep_unique_words)\n",
    "df_pink_floyd_teste['lyrics'] = df_pink_floyd_teste['lyrics'].apply(keep_unique_words)\n",
    "\n",
    "df_total_treino = pd.concat([df_nirvana_treino, df_pink_floyd_treino], ignore_index=True)\n",
    "df_total_teste = pd.concat([df_nirvana_teste, df_pink_floyd_teste], ignore_index=True)\n"
   ]
  },
  {
   "cell_type": "code",
   "execution_count": 375,
   "metadata": {},
   "outputs": [],
   "source": [
    "# 4- Separação das músicas por palavras\n",
    "\n",
    "palavras_por_musica_nirvana = {}\n",
    "palavras_por_musica_pink_floyd = {}\n",
    "palavras_por_musica_total = {}\n",
    "\n",
    "contador1 = 0\n",
    "contador2 = 0\n",
    "contador3 = 0\n",
    "\n",
    "for musicas_n in df_nirvana_treino['lyrics']:\n",
    "    palavras_por_musica_nirvana[contador1] = musicas_n.split()\n",
    "    contador1 += 1\n",
    "\n",
    "for musicas_pf in df_pink_floyd_treino['lyrics']:\n",
    "    palavras_por_musica_pink_floyd[contador2] = musicas_pf.split()\n",
    "    contador2 += 1\n",
    "\n",
    "for musicas_total in df_total_treino['lyrics']:\n",
    "    palavras_por_musica_total[contador3] = musicas_total.split()\n",
    "    contador3 += 1"
   ]
  },
  {
   "cell_type": "code",
   "execution_count": 376,
   "metadata": {},
   "outputs": [],
   "source": [
    "# 5- Frequência da palavra dado música\n",
    "\n",
    "frequencia_nirvana = {}\n",
    "frequencia_pink_floyd = {}\n",
    "frequencia_total = {}\n",
    "\n",
    "for musicas in palavras_por_musica_nirvana.values():\n",
    "    for palavras in musicas:\n",
    "        if palavras in frequencia_nirvana:\n",
    "            frequencia_nirvana[palavras] += 1\n",
    "        else:\n",
    "            frequencia_nirvana[palavras] = 1\n",
    "\n",
    "for musicas in palavras_por_musica_pink_floyd.values():\n",
    "    for palavras in musicas:\n",
    "        if palavras in frequencia_pink_floyd:\n",
    "            frequencia_pink_floyd[palavras] += 1\n",
    "        else:\n",
    "            frequencia_pink_floyd[palavras] = 1\n",
    "\n",
    "for musicas in palavras_por_musica_total.values():\n",
    "    for palavras in musicas:\n",
    "        if palavras in frequencia_total:\n",
    "            frequencia_total[palavras] += 1\n",
    "        else:\n",
    "            frequencia_total[palavras] = 1"
   ]
  },
  {
   "cell_type": "code",
   "execution_count": 377,
   "metadata": {},
   "outputs": [],
   "source": [
    "# 6- Probabilidade de cada palavra por banda e geral\n",
    "\n",
    "probabilidade_por_palavra_nirvana = {}\n",
    "probabilidade_por_palavra_pink_floyd = {}\n",
    "probabilidade_por_palavra_total = {}\n",
    "\n",
    "for palavra,quantidade in frequencia_nirvana.items():\n",
    "    probabilidade_por_palavra_nirvana[palavra] = quantidade/len(palavras_por_musica_nirvana)\n",
    "\n",
    "for palavra,quantidade in frequencia_pink_floyd.items():\n",
    "    probabilidade_por_palavra_pink_floyd[palavra] = quantidade/len(palavras_por_musica_pink_floyd)\n",
    "\n",
    "for palavra,quantidade in frequencia_total.items():\n",
    "    probabilidade_por_palavra_total[palavra] = quantidade/len(palavras_por_musica_total)"
   ]
  },
  {
   "cell_type": "code",
   "execution_count": 378,
   "metadata": {},
   "outputs": [],
   "source": [
    "# 7- Teorema de Bayes e Precisão\n",
    "\n",
    "def teorema_de_bayes(musica):\n",
    "    musica = musica.split()\n",
    "    propabilidade_final_pf = 0\n",
    "    propabilidade_final_n = 0\n",
    "\n",
    "    for palavras in musica:\n",
    "        if palavras in probabilidade_por_palavra_pink_floyd:\n",
    "            soma_pf = log10(probabilidade_por_palavra_pink_floyd[palavras])\n",
    "            subtracao_pf = log10(probabilidade_por_palavra_total[palavras])\n",
    "            propabilidade_final_pf += soma_pf\n",
    "            propabilidade_final_pf -= subtracao_pf\n",
    "    propabilidade_final_pf *= probabilidade_pink_floyd\n",
    "        \n",
    "\n",
    "    for palavras in musica:\n",
    "        if palavras in probabilidade_por_palavra_nirvana:\n",
    "            soma_n = log10(probabilidade_por_palavra_nirvana[palavras])\n",
    "            subtracao_n = log10(probabilidade_por_palavra_total[palavras])\n",
    "            propabilidade_final_n += soma_n\n",
    "            propabilidade_final_n -= subtracao_n\n",
    "    propabilidade_final_n *= probabilidade_nirvana\n",
    "    \n",
    "    return propabilidade_final_pf, propabilidade_final_n\n"
   ]
  },
  {
   "cell_type": "code",
   "execution_count": 383,
   "metadata": {},
   "outputs": [
    {
     "name": "stdout",
     "output_type": "stream",
     "text": [
      "A precisão é de 91.67%\n"
     ]
    }
   ],
   "source": [
    "acu_nirvana = 0\n",
    "acu_pink_floyd = 0\n",
    "\n",
    "not_acu_nirvana = 0\n",
    "not_acu_pink_floyd = 0\n",
    "\n",
    "for i in range(18):\n",
    "    index = randint(120,139)\n",
    "    musica1 = df_nirvana_teste['lyrics'][index]\n",
    "    final_pf, final_n = teorema_de_bayes(musica1)\n",
    "    if final_n > final_pf:\n",
    "        acu_nirvana += 1\n",
    "\n",
    "for i in range(18):\n",
    "    index = randint(120,139)\n",
    "    musica2 = df_pink_floyd_teste['lyrics'][index]\n",
    "    final_pf, final_n = teorema_de_bayes(musica2)\n",
    "    if final_pf > final_n:\n",
    "        acu_pink_floyd += 1\n",
    "        \n",
    "acu_total = ((acu_nirvana + acu_pink_floyd) * 100)/36\n",
    "\n",
    "print(f\"A precisão é de {acu_total:.2f}%\")"
   ]
  }
 ],
 "metadata": {
  "kernelspec": {
   "display_name": ".venv",
   "language": "python",
   "name": "python3"
  },
  "language_info": {
   "codemirror_mode": {
    "name": "ipython",
    "version": 3
   },
   "file_extension": ".py",
   "mimetype": "text/x-python",
   "name": "python",
   "nbconvert_exporter": "python",
   "pygments_lexer": "ipython3",
   "version": "3.11.4"
  },
  "orig_nbformat": 4
 },
 "nbformat": 4,
 "nbformat_minor": 2
}
