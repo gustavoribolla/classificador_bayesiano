{
 "cells": [
  {
   "cell_type": "code",
   "execution_count": 33,
   "metadata": {},
   "outputs": [],
   "source": [
    "import pandas as pd\n",
    "\n",
    "df_nirvana = pd.read_csv('Dados/nirvana_lyrics.csv')\n",
    "df_pink_floyd = pd.read_csv('Dados\\pink_floyd_lyrics.csv')"
   ]
  },
  {
   "cell_type": "code",
   "execution_count": 34,
   "metadata": {},
   "outputs": [],
   "source": [
    "df_nirvana_treino = df_nirvana.iloc[:50]\n",
    "df_pink_floyd_treino = df_pink_floyd.iloc[:50]\n",
    "\n",
    "df_nirvana_teste = df_nirvana.iloc[50:100]\n",
    "df_pink_floyd_teste = df_pink_floyd.iloc[50:100]"
   ]
  },
  {
   "cell_type": "code",
   "execution_count": 44,
   "metadata": {},
   "outputs": [],
   "source": [
    "probabilidade_nirvana = len(df_nirvana_treino) / (len(df_nirvana_treino) + len(df_pink_floyd_treino))\n",
    "probabilidade_pink_floyd = len(df_pink_floyd_treino) / (len(df_nirvana_treino) + len(df_pink_floyd_treino))"
   ]
  },
  {
   "cell_type": "code",
   "execution_count": 60,
   "metadata": {},
   "outputs": [
    {
     "name": "stdout",
     "output_type": "stream",
     "text": [
      "0     \"Moon in both [houses]...\"...Scorpio, [Arabian...\n",
      "1     Lucifer Sam, siam cat\\nAlways sitting by your ...\n",
      "2     There was a king who ruled the land\\nHis Majes...\n",
      "3     Alone in the clouds all blue\\nLying on an eide...\n",
      "4     TCH TCH\\nAHH (AHH)\\nTCH TCH\\nAHH AHH\\nDoi doi\\...\n",
      "5     Doctor, doctor!\\nI’m in bed (Doctor, doctor)\\n...\n",
      "6                                                   NaN\n",
      "7     I want to tell you a story\\nBout’ a little man...\n",
      "8     All movement is accomplished in six stages\\nAn...\n",
      "9     The black and green scarecrow as everyone know...\n",
      "10    I’ve got a bike, you can ride it if you like\\n...\n",
      "11    Emily tries but misunderstands (ah ooh)\\nShe’s...\n",
      "12    Far, far, far, far away – way\\nPeople heard hi...\n",
      "13    Remember a day before today\\nA day when you we...\n",
      "14    Little by little the night turns around\\nCount...\n",
      "15    Corporal Clegg had a wooden leg\\nHe won it in ...\n",
      "16                                                  NaN\n",
      "17    Marigolds are very much in love\\nBut he doesn’...\n",
      "18    It’s awfully considerate of you to think of me...\n",
      "19                                                  NaN\n",
      "20                                                  NaN\n",
      "21                                                  NaN\n",
      "22                                                  NaN\n",
      "23                                                  NaN\n",
      "24    In a churchyard by a river\\nLazing in the haze...\n",
      "25    I was standing by the Nile\\nWhen I saw the lad...\n",
      "26    We smile and smile\\nWe smile and smile\\nLaught...\n",
      "27                                                  NaN\n",
      "28    Heavy hung the canopy of blue\\nShade my eyes a...\n",
      "29    The path you tread is narrow and the drop is s...\n",
      "30    I’m so afraid\\nOf all the mistakes that I’ve m...\n",
      "31    Pass the tequila, Manuel\\n(glug, snort)\\nListe...\n",
      "32    \"Moon in both [houses]...\"...Scorpio, [Arabian...\n",
      "33                        Careful with that axe, Eugene\n",
      "34    Little by little the night turns around\\nCount...\n",
      "35                                                  NaN\n",
      "36                                                  NaN\n",
      "37    “Icy wind of night be gone this is not your do...\n",
      "38    Aye an’ a bit of Mackeral settler rack and rui...\n",
      "39    Following the path as it leads towards\\nThe da...\n",
      "40                                                  NaN\n",
      "41    \"Here is a loud announcement\"\\n\\n\"Silence in t...\n",
      "42    If I were a swan, I’d be gone\\nIf I were a tra...\n",
      "43    \\nWould you like to say something before you l...\n",
      "44    When the fat old sun in the sky is falling\\nSu...\n",
      "45    \\nOh, uh, me flakes, then uh, scrambled eggs, ...\n",
      "46    One of these days, I’m going to cut you into l...\n",
      "47    A cloud of eiderdown\\nDraws around me\\nSofteni...\n",
      "48    You say the hill’s too steep to climb\\nChiding...\n",
      "49    As I reach for a peach, slide a rind down behi...\n",
      "Name: lyrics, dtype: object\n"
     ]
    },
    {
     "name": "stderr",
     "output_type": "stream",
     "text": [
      "C:\\Users\\gusri\\AppData\\Local\\Temp\\ipykernel_18688\\1249043079.py:36: SettingWithCopyWarning: \n",
      "A value is trying to be set on a copy of a slice from a DataFrame.\n",
      "Try using .loc[row_indexer,col_indexer] = value instead\n",
      "\n",
      "See the caveats in the documentation: https://pandas.pydata.org/pandas-docs/stable/user_guide/indexing.html#returning-a-view-versus-a-copy\n",
      "  df_pink_floyd_treino['lyrics'] = replace_function_pf(df_pink_floyd_treino['lyrics'])\n"
     ]
    }
   ],
   "source": [
    "# df_nirvana_treino['lyrics'] --> LISTA\n",
    "# df_pink_floyd_treino['lyrics'] --> STRING\n",
    "\n",
    "def split_function_pf(text):\n",
    "    return text.split()\n",
    "\n",
    "def split_function_n(text):\n",
    "    for versos in text:\n",
    "        return versos.split()\n",
    "\n",
    "def replace_function_pf(text):\n",
    "    caracteres_paia = ['.','!','@','#','$','%','&','*','(',')','{','}',':',';','_','?','/','<','>','+','=','|',',','[',']','\\n']\n",
    "    for caractere in text:\n",
    "        if caractere in caracteres_paia:\n",
    "            text.replace(caractere, '')\n",
    "    return text\n",
    "\n",
    "def replace_function_n(text):\n",
    "    caracteres_paia = ['.','!','@','#','$','%','&','*','(',')','{','}',':',';','_','?','/','<','>','+','=','|',',','[',']','\\n']\n",
    "    for palavra in text:\n",
    "        for caractere in palavra:\n",
    "            if caractere in caracteres_paia:\n",
    "                text.replace(caractere, '')\n",
    "    return text\n",
    "\n",
    "def lower_pf(text):\n",
    "    for words in text:\n",
    "        words = words.lower()\n",
    "    return text\n",
    "\n",
    "def lower_n(text):\n",
    "    for words in text:\n",
    "        words = words.lower()\n",
    "    return text"
   ]
  },
  {
   "cell_type": "code",
   "execution_count": null,
   "metadata": {},
   "outputs": [],
   "source": []
  }
 ],
 "metadata": {
  "kernelspec": {
   "display_name": ".venv",
   "language": "python",
   "name": "python3"
  },
  "language_info": {
   "codemirror_mode": {
    "name": "ipython",
    "version": 3
   },
   "file_extension": ".py",
   "mimetype": "text/x-python",
   "name": "python",
   "nbconvert_exporter": "python",
   "pygments_lexer": "ipython3",
   "version": "3.11.4"
  },
  "orig_nbformat": 4
 },
 "nbformat": 4,
 "nbformat_minor": 2
}
