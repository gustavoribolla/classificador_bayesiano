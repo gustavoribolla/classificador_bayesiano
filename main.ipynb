{
 "cells": [
  {
   "cell_type": "code",
   "execution_count": 1,
   "metadata": {},
   "outputs": [],
   "source": [
    "import pandas as pd\n",
    "\n",
    "df_nirvana = pd.read_csv('Dados/nirvana_lyrics.csv')\n",
    "df_pink_floyd = pd.read_csv('Dados\\pink_floyd_lyrics.csv')"
   ]
  },
  {
   "cell_type": "code",
   "execution_count": 14,
   "metadata": {},
   "outputs": [],
   "source": [
    "import re\n",
    "def arruma(lyrics):\n",
    "    if isinstance(lyrics, str):\n",
    "        lyrics = lyrics.lower()\n",
    "        lyrics = re.sub(r'[.!@#$%&*(){}:;_?/<>+|=,\\[\\]\\n]', '', lyrics)\n",
    "\n",
    "    return lyrics\n",
    "\n",
    "df_nirvana['lyrics'] = df_nirvana['lyrics'].astype(str)\n",
    "df_pink_floyd['lyrics'] = df_pink_floyd['lyrics'].astype(str)\n",
    "\n",
    "df_nirvana['lyrics'] = df_nirvana['lyrics'].apply(arruma)\n",
    "df_pink_floyd['lyrics'] = df_pink_floyd['lyrics'].apply(arruma)"
   ]
  },
  {
   "cell_type": "code",
   "execution_count": 18,
   "metadata": {},
   "outputs": [
    {
     "name": "stdout",
     "output_type": "stream",
     "text": [
      "Probabilidade da palavra \"YOUR\" aparecer no Nirvana: 0.0070\n",
      "Probabilidade da palavra \"YOUR\" aparecer no Pink Floyd: 0.0080\n"
     ]
    }
   ],
   "source": [
    "def calcula(lyrics, palavra_escolhida):\n",
    "    palavras = lyrics.split()\n",
    "    contador = palavras.count(palavra_escolhida)\n",
    "    todas_palavras = len(palavras)\n",
    "    probabilidade = contador / todas_palavras\n",
    "    return probabilidade\n",
    "\n",
    "\n",
    "probabilidade_nirvana = calcula(\" \".join(df_nirvana['lyrics']), \"your\")\n",
    "probabilidade_pink_floyd = calcula(\" \".join(df_pink_floyd['lyrics']), \"your\")\n",
    "\n",
    "print(f'Probabilidade da palavra \"YOUR\" aparecer no Nirvana: {probabilidade_nirvana:.4f}')\n",
    "print(f'Probabilidade da palavra \"YOUR\" aparecer no Pink Floyd: {probabilidade_pink_floyd:.4f}')"
   ]
  },
  {
   "cell_type": "code",
   "execution_count": null,
   "metadata": {},
   "outputs": [],
   "source": []
  }
 ],
 "metadata": {
  "kernelspec": {
   "display_name": ".venv",
   "language": "python",
   "name": "python3"
  },
  "language_info": {
   "codemirror_mode": {
    "name": "ipython",
    "version": 3
   },
   "file_extension": ".py",
   "mimetype": "text/x-python",
   "name": "python",
   "nbconvert_exporter": "python",
   "pygments_lexer": "ipython3",
   "version": "3.11.1"
  },
  "orig_nbformat": 4
 },
 "nbformat": 4,
 "nbformat_minor": 2
}
