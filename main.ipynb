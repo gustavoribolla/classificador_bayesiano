{
 "cells": [
  {
   "cell_type": "code",
   "execution_count": 164,
   "metadata": {},
   "outputs": [],
   "source": [
    "import pandas as pd\n",
    "\n",
    "df_nirvana = pd.read_csv('Dados/nirvana_lyrics.csv')\n",
    "df_pink_floyd = pd.read_csv('Dados\\pink_floyd_lyrics.csv')"
   ]
  },
  {
   "cell_type": "code",
   "execution_count": 165,
   "metadata": {},
   "outputs": [],
   "source": [
    "df_nirvana_treino = df_nirvana.iloc[:50]\n",
    "df_pink_floyd_treino = df_pink_floyd.iloc[:50]\n",
    "\n",
    "df_nirvana_teste = df_nirvana.iloc[50:100]\n",
    "df_pink_floyd_teste = df_pink_floyd.iloc[50:100]"
   ]
  },
  {
   "cell_type": "code",
   "execution_count": 166,
   "metadata": {},
   "outputs": [],
   "source": [
    "probabilidade_nirvana = len(df_nirvana_treino) / (len(df_nirvana_treino) + len(df_pink_floyd_treino))\n",
    "probabilidade_pink_floyd = len(df_pink_floyd_treino) / (len(df_nirvana_treino) + len(df_pink_floyd_treino))"
   ]
  },
  {
   "cell_type": "code",
   "execution_count": 167,
   "metadata": {},
   "outputs": [
    {
     "name": "stdout",
     "output_type": "stream",
     "text": [
      "0     'i need an easy friend' 'i do with an ear to l...\n",
      "1     what's the season of love if you can't have ev...\n",
      "2     ain't it a shame to go fishin on a sunday ain'...\n",
      "3     'my baby taught me how to live' 'my baby taugh...\n",
      "4     'what else should i be' 'all apologies' 'what ...\n",
      "5     'come on over and do the twist' 'over-do it an...\n",
      "6     'look your legs are ashes' 'charred into a spe...\n",
      "7     'when i first wanted i never ever was naw' 'wh...\n",
      "8     'out here in the fields' 'i fight for my meals...\n",
      "9     'i see a bad moon rising' 'i see trouble on th...\n",
      "10    '1 2 3 4' 'shooting get the blast' raiding gra...\n",
      "11    'beans beans beans' 'jessie had some beans' 'h...\n",
      "12    'she should have stayed away from friends' 'sh...\n",
      "13    'i was a seeking out for a funnel' 'not only m...\n",
      "14    'big cheese' 'make me' 'mine says' 'go to the ...\n",
      "15    it's not cold enough 'please put this side up'...\n",
      "16    you're my favorite 'of my saviours' you're my ...\n",
      "17    if you wouldn't mind i would like to blew if y...\n",
      "18    i'm long gone from vertical somewhere south is...\n",
      "19    i don't care i don't care i don't care i don't...\n",
      "20    boy i'd like to make your i'd like to jump you...\n",
      "21    'clean up before she comes' 'clean up before s...\n",
      "22    'come as you are as you were' 'as i want you t...\n",
      "23    'surly ' 'i am so surly and i am so surly ' 'a...\n",
      "24    'creation' 'hey the love of two' 'a desire is ...\n",
      "25    i can't hide no 'on the mantle' i'm not sad un...\n",
      "26    'dear mama set me free' 'hey mama let me be' '...\n",
      "27    'straight as an arrow' 'defect defect' 'not st...\n",
      "28    'pick me pick me yeah' 'live alone lone single...\n",
      "29    'if i may' 'and if i might let me down weeping...\n",
      "30    'you really like my limousine' 'you like the w...\n",
      "31    'to hope is admittance' 'feed before beginning...\n",
      "32    baby you're going down in the dark 'show my lo...\n",
      "33    'portray sincerity' 'act out of loyalty' 'defe...\n",
      "34    one baby to another says i'm lucky to have met...\n",
      "35    i'm not like them 'but i can pretend' 'the sun...\n",
      "36    'silence' 'here i am' 'here i am' 'silent' 'br...\n",
      "37    'even in his youth' 'even in his youth' 'even ...\n",
      "38    you've got it wish i had your life yes it's a ...\n",
      "39    'bell on door clanks come on in' 'floyd observ...\n",
      "40                                       'instrumental'\n",
      "41    it's so relieving to know that you're leaving ...\n",
      "42    'it hurts when you have to press that dull lit...\n",
      "43                                       'instrumental'\n",
      "44    'i was your mine you were mine my enemy' 'you ...\n",
      "45    'she eyes me like a pisces when i am weak' i'v...\n",
      "46    'hey fellas have you heard the news' you know ...\n",
      "47    'that\\'s it' 'until my tensions' feed me i'm f...\n",
      "48    'now she ever comes now now' 'she ever comes n...\n",
      "49    'when i have a hand' 'when i have a hand' 'whe...\n",
      "Name: lyrics, dtype: object\n"
     ]
    }
   ],
   "source": [
    "import re\n",
    "def arruma(lyrics):\n",
    "    if isinstance(lyrics, str):\n",
    "        lyrics = lyrics.lower()\n",
    "        lyrics = re.sub(r'[.!@#$%&*(){}:;_?/<>+|=,\\[\\]\\n\"]', '', lyrics)\n",
    "\n",
    "    return lyrics\n",
    "\n",
    "df_nirvana_treino.loc[:,'lyrics'] = df_nirvana_treino['lyrics'].astype(str)\n",
    "df_pink_floyd_treino.loc[:,'lyrics'] = df_pink_floyd_treino['lyrics'].astype(str)\n",
    "\n",
    "df_nirvana_treino.loc[:,'lyrics'] = df_nirvana_treino['lyrics'].apply(arruma)\n",
    "df_pink_floyd_treino.loc[:,'lyrics'] = df_pink_floyd_treino['lyrics'].apply(arruma)\n",
    "\n",
    "print(df_nirvana_treino['lyrics'])\n",
    "# print(df_pink_floyd_treino['lyrics'])"
   ]
  },
  {
   "cell_type": "code",
   "execution_count": 168,
   "metadata": {},
   "outputs": [],
   "source": [
    "# TESTE 1 (CAIO)\n",
    "\n",
    "# def calcula(lyrics, palavra_escolhida):\n",
    "#     palavras = lyrics.split()\n",
    "#     contador = palavras.count(palavra_escolhida)\n",
    "#     todas_palavras = len(palavras)\n",
    "#     probabilidade = contador / todas_palavras\n",
    "#     return probabilidade\n",
    "\n",
    "# probabilidade_nirvana2 = calcula(\" \".join(df_nirvana_treino['lyrics']), \"in\")\n",
    "# probabilidade_pink_floyd2 = calcula(\" \".join(df_pink_floyd_treino['lyrics']), \"in\")\n",
    "# print(f'Probabilidade da palavra \"YOUR\" aparecer no Nirvana: {probabilidade_nirvana2:.4f}')\n",
    "# print(f'Probabilidade da palavra \"YOUR\" aparecer no Pink Floyd: {probabilidade_pink_floyd2:.4f}')\n",
    "\n",
    "\n",
    "# TESTE 2 (RIBOLLA)\n",
    "# def probabilidade_banda(palavra):\n",
    "#     p_nirvana = 0\n",
    "#     p_pink_floyd = 0\n",
    "\n",
    "#     for palavras in df_nirvana_treino['lyrics']:\n",
    "#         if palavra == palavras:\n",
    "#             p_nirvana += 1\n",
    "\n",
    "#     for palavras2 in df_pink_floyd_treino['lyrics']:\n",
    "#         if palavra == palavras2:\n",
    "#             p_pink_floyd += 1\n",
    "\n",
    "#     total = p_nirvana + p_pink_floyd\n",
    "\n",
    "#     chance_nirvana = (p_nirvana*100)/total\n",
    "#     chance_pf = (p_pink_floyd*100)/total\n",
    "\n",
    "#     return chance_nirvana, chance_pf\n",
    "\n",
    "# palavra_teste = 'you'\n",
    "# n,pf = probabilidade_banda(palavra_teste)\n",
    "\n",
    "# print(f\"A probabilidade de {palavra_teste} ser do Nirvana é de {n}%\")\n",
    "# print(f\"A probabilidade de {palavra_teste} ser do Pink Floyd é de {pf}%\")"
   ]
  },
  {
   "cell_type": "code",
   "execution_count": 172,
   "metadata": {},
   "outputs": [
    {
     "name": "stdout",
     "output_type": "stream",
     "text": [
      "A probabilidade da palavra \"pig\" pertencer ao Pink Floyd é de 50.00%\n",
      "A probabilidade da palavra \"pig\" pertencer ao Nirvana é de 50.00%\n"
     ]
    }
   ],
   "source": [
    "import pandas as pd\n",
    "\n",
    "def calculate_word_probability(word, df1, df2):\n",
    "    def count_word_occurrences(dataframe, word):\n",
    "        word_counts = 0\n",
    "\n",
    "        for lyrics in dataframe:\n",
    "            if pd.notna(lyrics):  \n",
    "                word_count = lyrics.count(word.lower())  \n",
    "                word_counts += word_count\n",
    "\n",
    "        return word_counts\n",
    "\n",
    "   \n",
    "    count_df1 = count_word_occurrences(df1, word)\n",
    "    count_df2 = count_word_occurrences(df2, word)\n",
    "\n",
    "   \n",
    "    total_count = count_df1 + count_df2\n",
    "    if total_count == 0:\n",
    "        return 0.0 \n",
    "    probability_df1 = (count_df1 / total_count) * 100\n",
    "    probability_df2 = (count_df2 / total_count) * 100\n",
    "\n",
    "    return probability_df1, probability_df2\n",
    "\n",
    "\n",
    "word = \"pig\"\n",
    "\n",
    "prob_df1, prob_df2 = calculate_word_probability(word, df_pink_floyd_treino['lyrics'], df_nirvana_treino['lyrics'])\n",
    "print(f'A probabilidade da palavra \"{word}\" pertencer ao Pink Floyd é de {prob_df1:.2f}%')\n",
    "print(f'A probabilidade da palavra \"{word}\" pertencer ao Nirvana é de {prob_df2:.2f}%')"
   ]
  },
  {
   "cell_type": "code",
   "execution_count": null,
   "metadata": {},
   "outputs": [],
   "source": []
  }
 ],
 "metadata": {
  "kernelspec": {
   "display_name": ".venv",
   "language": "python",
   "name": "python3"
  },
  "language_info": {
   "codemirror_mode": {
    "name": "ipython",
    "version": 3
   },
   "file_extension": ".py",
   "mimetype": "text/x-python",
   "name": "python",
   "nbconvert_exporter": "python",
   "pygments_lexer": "ipython3",
   "version": "3.11.1"
  },
  "orig_nbformat": 4
 },
 "nbformat": 4,
 "nbformat_minor": 2
}
